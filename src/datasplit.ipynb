{
 "cells": [
  {
   "cell_type": "code",
   "execution_count": 3,
   "metadata": {},
   "outputs": [],
   "source": [
    "import pandas as pd\n",
    "import matplotlib.pyplot as plt\n",
    "from sklearn.model_selection import train_test_split\n",
    "\n",
    "data = pd.read_csv('data/train.csv')\n",
    "\n",
    "# Use 20% of data for the test set\n",
    "train_df, test_df = train_test_split(data, test_size=0.2, stratify=data['is_duplicate'])\n",
    "# Use 1/8 of the remaining for a 70/10/20 train/validation/test split\n",
    "train_df, validation_df = train_test_split(train_df, test_size=0.125, stratify=train_df['is_duplicate'])\n",
    "\n",
    "TRAIN_PATH = 'data/mojave/mojave_train.csv'\n",
    "VALIDATION_PATH = 'data/mojave/mojave_validation.csv'\n",
    "TEST_PATH = 'data/mojave/mojave_test.csv'\n",
    "\n",
    "train_df.to_csv(TRAIN_PATH)\n",
    "validation_df.to_csv(VALIDATION_PATH)\n",
    "test_df.to_csv(TEST_PATH)"
   ]
  },
  {
   "cell_type": "code",
   "execution_count": 4,
   "metadata": {},
   "outputs": [
    {
     "name": "stdout",
     "output_type": "stream",
     "text": [
      "0.36919749967314835\n",
      "0.369190432610255\n",
      "0.36920279997031835\n",
      "0.369197853026293\n"
     ]
    }
   ],
   "source": [
    "original_percentage = data['is_duplicate'].sum() / len(data)\n",
    "duplicate_percentage_1 = train_df['is_duplicate'].sum() / len(train_df)\n",
    "duplicate_percentage_2 = validation_df['is_duplicate'].sum() / len(validation_df)\n",
    "duplicate_percentage_3 = test_df['is_duplicate'].sum() / len(test_df)\n",
    "print(duplicate_percentage_1)\n",
    "print(duplicate_percentage_2)\n",
    "print(duplicate_percentage_3)\n",
    "print(original_percentage)"
   ]
  }
 ],
 "metadata": {
  "kernelspec": {
   "display_name": ".venv",
   "language": "python",
   "name": "python3"
  },
  "language_info": {
   "codemirror_mode": {
    "name": "ipython",
    "version": 3
   },
   "file_extension": ".py",
   "mimetype": "text/x-python",
   "name": "python",
   "nbconvert_exporter": "python",
   "pygments_lexer": "ipython3",
   "version": "3.9.6"
  }
 },
 "nbformat": 4,
 "nbformat_minor": 2
}
